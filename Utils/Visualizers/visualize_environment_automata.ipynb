{
 "cells": [
  {
   "cell_type": "markdown",
   "metadata": {},
   "source": [
    "# Visualize Modeled Environment Automata \n",
    "\n",
    "Using `SOMETHING`, visualize `SOMETHING ELSE`\n",
    "- possibilities: this notebook contains lines of bash script that someone can run?\n",
    "- alternatively running something like ./run_model will spit out a .csv or .txt file in Utils/Data"
   ]
  }
 ],
 "metadata": {
  "language_info": {
   "name": "python"
  }
 },
 "nbformat": 4,
 "nbformat_minor": 2
}
